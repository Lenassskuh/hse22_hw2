{
  "nbformat": 4,
  "nbformat_minor": 0,
  "metadata": {
    "colab": {
      "provenance": []
    },
    "kernelspec": {
      "name": "python3",
      "display_name": "Python 3"
    },
    "language_info": {
      "name": "python"
    }
  },
  "cells": [
    {
      "cell_type": "code",
      "execution_count": 1,
      "metadata": {
        "id": "6E8HnNwoaUEa"
      },
      "outputs": [],
      "source": [
        "import re"
      ]
    },
    {
      "cell_type": "code",
      "source": [
        "#Напишем функцию для макс п-ти и вывода информации\n",
        "def get(file, text, out = True):\n",
        "    lengths = []\n",
        "    max_seq, curr_seq = '', ''\n",
        "    total_len = num = max_len = length = score = 0\n",
        "    for line in file:\n",
        "        if (line[0] == '>'):\n",
        "            if num != 0:\n",
        "                lengths.append(length)\n",
        "            num += 1\n",
        "            if length >= max_len:\n",
        "              max_seq = curr_seq\n",
        "              max_len = length\n",
        "            curr_seq = ''\n",
        "            length = 0\n",
        "        else:\n",
        "            curr_seq += line.strip()\n",
        "            length += len(line.strip())\n",
        "            total_len += len(line.strip())\n",
        "    lengths.sort(reverse = True) \n",
        "    for i in lengths:\n",
        "        score += i\n",
        "        if score >= total_len / 2:\n",
        "            if out == True:\n",
        "                print(f'''\n",
        "                 Анализ {text},\n",
        "                 Общее количество: {num},\n",
        "                 Общая длина: {total_len},\n",
        "                 Длина самого длинного: {max_len},\n",
        "                 N50: {i}\n",
        "''')\n",
        "            break\n",
        "    return max_seq"
      ],
      "metadata": {
        "id": "MJGL7zBsapAA"
      },
      "execution_count": 4,
      "outputs": []
    },
    {
      "cell_type": "code",
      "source": [
        "def get2(max_seq, file_name):\n",
        "  f = open(file_name, \"w\")\n",
        "  f.write(max_seq)\n",
        "  f.close()"
      ],
      "metadata": {
        "id": "IfPMJ7bBap4i"
      },
      "execution_count": 2,
      "outputs": []
    },
    {
      "cell_type": "code",
      "source": [
        "cont = get(open('Poil_gapClosed.fa', 'r'), 'Скаффолдов')"
      ],
      "metadata": {
        "colab": {
          "base_uri": "https://localhost:8080/"
        },
        "id": "-J_af7xja2it",
        "outputId": "84d373ca-7c25-46fb-d931-c00fb7fd3aa3"
      },
      "execution_count": 7,
      "outputs": [
        {
          "output_type": "stream",
          "name": "stdout",
          "text": [
            "\n",
            "                 Анализ Скаффолдов,\n",
            "                 Общее количество: 66,\n",
            "                 Общая длина: 3917665,\n",
            "                 Длина самого длинного: 3877230,\n",
            "                 N50: 3877230\n",
            "\n"
          ]
        }
      ]
    }
  ]
}